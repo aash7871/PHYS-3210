{
 "cells": [
  {
   "cell_type": "code",
   "execution_count": 100,
   "metadata": {},
   "outputs": [],
   "source": [
    "def density_alpha(radius):\n",
    "    p0 = 1000\n",
    "    p = p0\n",
    "    return p\n",
    "def density_beta(radius):\n",
    "    p0 = 1000\n",
    "    p = p0/radius\n",
    "    return p\n",
    "def density_gamma(radius):\n",
    "    p0 = 1000\n",
    "    p = p0/radius**2\n",
    "    return p"
   ]
  },
  {
   "cell_type": "code",
   "execution_count": 88,
   "metadata": {},
   "outputs": [],
   "source": [
    "def pressure_alpha(radius, density, M_star, R_star):\n",
    "    G = 6.67*10**-11\n",
    "    k = 1.38*10**-23\n",
    "    mu = 1.3\n",
    "    mp = 1.67*10**-27\n",
    "\n",
    "    P_c = (2/3)*np.pi*G*(density)**2*R_star**2\n",
    "    P_r = P_c*(1-(radius**2)/(R_star**2))\n",
    "    \n",
    "    return P_r"
   ]
  },
  {
   "cell_type": "code",
   "execution_count": 107,
   "metadata": {},
   "outputs": [
    {
     "data": {
      "image/png": "[encoded data removed]",
      "text/plain": [
       "<Figure size 432x288 with 1 Axes>"
      ]
     },
     "metadata": {
      "needs_background": "light"
     },
     "output_type": "display_data"
    }
   ],
   "source": [
    "r = np.arange(0, 10E7, 1)\n",
    "pressure = pressure_alpha(r, density_alpha(r), 10E30, 10E7)\n",
    "plt.plot(r,pressure)\n",
    "plt.show()"
   ]
  },
  {
   "cell_type": "code",
   "execution_count": 101,
   "metadata": {},
   "outputs": [],
   "source": [
    "def temp_alpha(radius, density, pressure, M_star, R_star):\n",
    "    G = 6.67E-11\n",
    "    k = 1.38E-23\n",
    "    mu = 1.3\n",
    "    mp = 1.67E-27\n",
    "    \n",
    "    T_r = (mu*mp*pressure)/(k*density)\n",
    "    \n",
    "    return T_r"
   ]
  },
  {
   "cell_type": "code",
   "execution_count": 104,
   "metadata": {},
   "outputs": [
    {
     "data": {
      "image/png": "[encoded data removed]",
      "text/plain": [
       "<Figure size 432x288 with 1 Axes>"
      ]
     },
     "metadata": {
      "needs_background": "light"
     },
     "output_type": "display_data"
    }
   ],
   "source": [
    "r = np.arange(0, 1E7, 1)\n",
    "temp = temp_alpha(r, density_alpha(r), pressure_alpha(r, density_alpha(r), 1E30, 1E7), 1E30, 1E7)\n",
    "\n",
    "plt.plot(r,temp)\n",
    "plt.show()"
   ]
  },
  {
   "cell_type": "code",
   "execution_count": 45,
   "metadata": {},
   "outputs": [],
   "source": [
    "def kramer_law(radius, density, temperature, X, Y, Z):\n",
    "    C1 = 4.3*10**25\n",
    "    C2 = 3.7*10**22\n",
    "    K_r = (((C1*(1+X))+(C2*(X+Y)))/2)*(density(radius))*(temperature(radius))**-3.5\n",
    "    return K_r"
   ]
  },
  {
   "cell_type": "code",
   "execution_count": 95,
   "metadata": {},
   "outputs": [],
   "source": [
    "def kramer_proportionality(radius, density, temperature):\n",
    "    #C = 7.5*10**22\n",
    "    C = 6.25E-2\n",
    "    K_r = C*(density)*(temperature)**(-3.5)\n",
    "    return K_r"
   ]
  },
  {
   "cell_type": "code",
   "execution_count": 96,
   "metadata": {},
   "outputs": [],
   "source": [
    "def mean_free_path(kramer_funcn, density_funcn, radius):\n",
    "    l = 1/(kramer_funcn*density_funcn)\n",
    "    return l"
   ]
  },
  {
   "cell_type": "code",
   "execution_count": 97,
   "metadata": {},
   "outputs": [
    {
     "ename": "TypeError",
     "evalue": "temp_alpha() missing 2 required positional arguments: 'M_star' and 'R_star'",
     "output_type": "error",
     "traceback": [
      "\u001b[0;31m---------------------------------------------------------------------------\u001b[0m",
      "\u001b[0;31mTypeError\u001b[0m                                 Traceback (most recent call last)",
      "\u001b[0;32m<ipython-input-97-b5e6d0a56930>\u001b[0m in \u001b[0;36m<module>\u001b[0;34m\u001b[0m\n\u001b[1;32m      1\u001b[0m \u001b[0mr\u001b[0m \u001b[0;34m=\u001b[0m \u001b[0mnp\u001b[0m\u001b[0;34m.\u001b[0m\u001b[0marange\u001b[0m\u001b[0;34m(\u001b[0m\u001b[0;36m0\u001b[0m\u001b[0;34m,\u001b[0m \u001b[0;36m10\u001b[0m\u001b[0;34m**\u001b[0m\u001b[0;36m6\u001b[0m\u001b[0;34m,\u001b[0m \u001b[0;36m1\u001b[0m\u001b[0;34m)\u001b[0m\u001b[0;34m\u001b[0m\u001b[0;34m\u001b[0m\u001b[0m\n\u001b[0;32m----> 2\u001b[0;31m \u001b[0mpath_length\u001b[0m \u001b[0;34m=\u001b[0m \u001b[0mmean_free_path\u001b[0m\u001b[0;34m(\u001b[0m\u001b[0mkramer_proportionality\u001b[0m\u001b[0;34m(\u001b[0m\u001b[0mr\u001b[0m\u001b[0;34m,\u001b[0m \u001b[0mdensity_alpha\u001b[0m\u001b[0;34m(\u001b[0m\u001b[0mr\u001b[0m\u001b[0;34m)\u001b[0m\u001b[0;34m,\u001b[0m \u001b[0mtemp_alpha\u001b[0m\u001b[0;34m(\u001b[0m\u001b[0mr\u001b[0m\u001b[0;34m,\u001b[0m \u001b[0;36m10\u001b[0m\u001b[0;34m**\u001b[0m\u001b[0;36m30\u001b[0m\u001b[0;34m,\u001b[0m \u001b[0;36m10\u001b[0m\u001b[0;34m**\u001b[0m\u001b[0;36m6\u001b[0m\u001b[0;34m)\u001b[0m\u001b[0;34m)\u001b[0m\u001b[0;34m,\u001b[0m \u001b[0mdensity_alpha\u001b[0m\u001b[0;34m(\u001b[0m\u001b[0mr\u001b[0m\u001b[0;34m)\u001b[0m\u001b[0;34m,\u001b[0m \u001b[0mr\u001b[0m\u001b[0;34m)\u001b[0m\u001b[0;34m\u001b[0m\u001b[0;34m\u001b[0m\u001b[0m\n\u001b[0m",
      "\u001b[0;31mTypeError\u001b[0m: temp_alpha() missing 2 required positional arguments: 'M_star' and 'R_star'"
     ]
    }
   ],
   "source": [
    "r = np.arange(0, 10**6, 1)\n",
    "path_length = mean_free_path(kramer_proportionality(r, density_alpha(r), temp_alpha(r, 10**30, 10**6)), density_alpha(r), r)"
   ]
  },
  {
   "cell_type": "code",
   "execution_count": null,
   "metadata": {},
   "outputs": [],
   "source": [
    "from mpl_toolkits import mplot3d\n",
    "N = 1000\n",
    "\n",
    "x = 0\n",
    "y = 0\n",
    "z = 0\n",
    "\n",
    "x_val = [0]\n",
    "y_val = [0]\n",
    "z_val = [0]\n",
    "\n",
    "r_star = \n",
    "\n",
    "for n in range(N):\n",
    "    theta = rand.uniform(0,2*np.pi)\n",
    "    phi = rand.uniform(0,2*np.pi)\n",
    "    \n",
    "    l = mean_free_path(kramer_proportionality(r, density_alpha(r), temp_alpha(r, 10**30, 10**6)), density_alpha(r), r)\n",
    "    \n",
    "    dx = l * np.sin(phi) * np.cos(theta)\n",
    "    dy = l * np.sin(phi) * np.sin(theta)\n",
    "    dz = l * np.cos(phi)\n",
    "    \n",
    "    x = x + dx\n",
    "    y = y + dy\n",
    "    z = z + dz\n",
    "\n",
    "    x.append(x)\n",
    "    y.append(y)\n",
    "    z.append(z)\n",
    "    \n",
    "    r = (x**2 + y**2 + z**2)**0.5\n",
    "    \n",
    "    if r >= r_star:\n",
    "        break"
   ]
  },
  {
   "cell_type": "code",
   "execution_count": null,
   "metadata": {},
   "outputs": [],
   "source": []
  }
 ],
 "metadata": {
  "kernelspec": {
   "display_name": "Python 3",
   "language": "python",
   "name": "python3"
  },
  "language_info": {
   "codemirror_mode": {
    "name": "ipython",
    "version": 3
   },
   "file_extension": ".py",
   "mimetype": "text/x-python",
   "name": "python",
   "nbconvert_exporter": "python",
   "pygments_lexer": "ipython3",
   "version": "3.7.3"
  }
 },
 "nbformat": 4,
 "nbformat_minor": 4
}
